{
 "cells": [
  {
   "cell_type": "code",
   "execution_count": 1,
   "metadata": {},
   "outputs": [
    {
     "ename": "ModuleNotFoundError",
     "evalue": "No module named 'pymc_extras'",
     "output_type": "error",
     "traceback": [
      "\u001b[0;31m---------------------------------------------------------------------------\u001b[0m",
      "\u001b[0;31mModuleNotFoundError\u001b[0m                       Traceback (most recent call last)",
      "Cell \u001b[0;32mIn[1], line 1\u001b[0m\n\u001b[0;32m----> 1\u001b[0m \u001b[38;5;28;01mfrom\u001b[39;00m\u001b[38;5;250m \u001b[39m\u001b[38;5;21;01mpymc_extras\u001b[39;00m\u001b[38;5;21;01m.\u001b[39;00m\u001b[38;5;21;01mmodel_builder\u001b[39;00m\u001b[38;5;250m \u001b[39m\u001b[38;5;28;01mimport\u001b[39;00m ModelBuilder\n\u001b[1;32m      2\u001b[0m \u001b[38;5;28;01mimport\u001b[39;00m\u001b[38;5;250m \u001b[39m\u001b[38;5;21;01mpymc\u001b[39;00m\u001b[38;5;250m \u001b[39m\u001b[38;5;28;01mas\u001b[39;00m\u001b[38;5;250m \u001b[39m\u001b[38;5;21;01mpm\u001b[39;00m\n\u001b[1;32m      3\u001b[0m \u001b[38;5;28;01mimport\u001b[39;00m\u001b[38;5;250m \u001b[39m\u001b[38;5;21;01mpymc_bart\u001b[39;00m\u001b[38;5;250m \u001b[39m\u001b[38;5;28;01mas\u001b[39;00m\u001b[38;5;250m \u001b[39m\u001b[38;5;21;01mpb\u001b[39;00m\n",
      "\u001b[0;31mModuleNotFoundError\u001b[0m: No module named 'pymc_extras'"
     ]
    }
   ],
   "source": [
    "from pymc_extras.model_builder import ModelBuilder\n",
    "import pymc as pm\n",
    "import pymc_bart as pb\n"
   ]
  },
  {
   "cell_type": "code",
   "execution_count": null,
   "metadata": {},
   "outputs": [],
   "source": [
    "class BARTModel(ModelBuilder):\n",
    "    _model_type = \"BARTModel\"\n",
    "    version = \"0.1\"\n",
    "    \n",
    "    def build_model(self, X, y, **kwargs):\n",
    "        # Assume X is your standardized Rrs (dx_s) and y is your log-transformed chlorophyll (log_dy)\n",
    "        # Here you can set up your model similar to your original code\n",
    "        with pm.Model(coords=self.model_coords) as self.model:\n",
    "            σ = pm.Exponential(\"σ\", 1)\n",
    "            μ = pb.BART('μ', X=X, Y=y, m=60)\n",
    "            # Make sure to use the appropriate sigma (e.g., alpha) in your likelihood\n",
    "            lkl = pm.Normal('likelihood', mu=μ, sigma=kwargs.get(\"sigma\", 1.0), observed=y, dims='obs_id')\n",
    "\n",
    "    def _data_setter(self, X, y=None):\n",
    "        # Set new data for prediction; here X should be new standardized Rrs data.\n",
    "        with self.model:\n",
    "            pm.set_data({\"X\": X})\n",
    "            if y is not None:\n",
    "                pm.set_data({\"y\": y})"
   ]
  }
 ],
 "metadata": {
  "kernelspec": {
   "display_name": "pymc_base",
   "language": "python",
   "name": "python3"
  },
  "language_info": {
   "codemirror_mode": {
    "name": "ipython",
    "version": 3
   },
   "file_extension": ".py",
   "mimetype": "text/x-python",
   "name": "python",
   "nbconvert_exporter": "python",
   "pygments_lexer": "ipython3",
   "version": "3.12.8"
  }
 },
 "nbformat": 4,
 "nbformat_minor": 2
}
